{
  "nbformat": 4,
  "nbformat_minor": 0,
  "metadata": {
    "colab": {
      "name": "Day3.ipynb",
      "provenance": []
    },
    "kernelspec": {
      "name": "python3",
      "display_name": "Python 3"
    }
  },
  "cells": [
    {
      "cell_type": "code",
      "metadata": {
        "id": "s3GVevntbZQ-",
        "colab_type": "code",
        "colab": {
          "base_uri": "https://localhost:8080/",
          "height": 34
        },
        "outputId": "b6cf27c6-6f80-40fb-f5b8-f9047a4f3e6d"
      },
      "source": [
        "# Write a program to subtract two complex numbers in Python.\n",
        "a = 4 + 3j\n",
        "b = 5 + 3j\n",
        "print(a-b)"
      ],
      "execution_count": 3,
      "outputs": [
        {
          "output_type": "stream",
          "text": [
            "(-1+0j)\n"
          ],
          "name": "stdout"
        }
      ]
    },
    {
      "cell_type": "code",
      "metadata": {
        "id": "T3RRojpFb2fq",
        "colab_type": "code",
        "colab": {
          "base_uri": "https://localhost:8080/",
          "height": 34
        },
        "outputId": "e181553d-5d6d-4c05-bee5-380be2fd6252"
      },
      "source": [
        "# Write a program to find the fourth root of a number.\n",
        "a = 16\n",
        "root_4 = a ** 0.25\n",
        "print(root_4)"
      ],
      "execution_count": 5,
      "outputs": [
        {
          "output_type": "stream",
          "text": [
            "2.0\n"
          ],
          "name": "stdout"
        }
      ]
    },
    {
      "cell_type": "code",
      "metadata": {
        "id": "qyK2VQQbcvWo",
        "colab_type": "code",
        "colab": {
          "base_uri": "https://localhost:8080/",
          "height": 51
        },
        "outputId": "7aa775b0-fb26-4ece-9443-5414d38a53cf"
      },
      "source": [
        "# Write a program to swap two numbers in Python with the help of a temporary variable.\n",
        "a = 2\n",
        "b = 4\n",
        "print(\"Before a =\",a,\"b =\",b)\n",
        "temp = 2\n",
        "a = b\n",
        "b = temp\n",
        "print(\"After a =\",a,\"b =\",b)"
      ],
      "execution_count": 7,
      "outputs": [
        {
          "output_type": "stream",
          "text": [
            "Before a = 2 b = 4\n",
            "After a = 4 b = 2\n"
          ],
          "name": "stdout"
        }
      ]
    },
    {
      "cell_type": "code",
      "metadata": {
        "id": "Ng8jhDaUdIkF",
        "colab_type": "code",
        "colab": {
          "base_uri": "https://localhost:8080/",
          "height": 51
        },
        "outputId": "8750423a-1af8-4a54-ea26-c48fb412908f"
      },
      "source": [
        "# Write a program to swap two numbers in Python without using a temporary variable.\n",
        "a = 2\n",
        "b = 4\n",
        "print(\"Before a =\",a,\"b =\",b)\n",
        "a = a+b\n",
        "b = a-b\n",
        "a = a - b\n",
        "print(\"After a =\",a,\"b =\",b)"
      ],
      "execution_count": 10,
      "outputs": [
        {
          "output_type": "stream",
          "text": [
            "Before a = 2 b = 4\n",
            "After a = 4 b = 2\n"
          ],
          "name": "stdout"
        }
      ]
    },
    {
      "cell_type": "code",
      "metadata": {
        "id": "5in5YRSSdpph",
        "colab_type": "code",
        "colab": {
          "base_uri": "https://localhost:8080/",
          "height": 34
        },
        "outputId": "b950bc54-d1f7-4a33-f997-bb06ca9041ad"
      },
      "source": [
        "# Write a program to convert fahrenheit to kelvin and celsius both.\n",
        "Fahrenheit = 128\n",
        "\n",
        "Celsius = (Fahrenheit - 32) * 5.0/9.0\n",
        "\n",
        "Kelvin = 273.5 + ((Fahrenheit - 32.0) * (5.0/9.0))\n",
        "\n",
        "print(\"Temperature:\", Fahrenheit, \"Fahrenheit = \",Kelvin,\"Kelvin\", Celsius, \"Celsius\")"
      ],
      "execution_count": 14,
      "outputs": [
        {
          "output_type": "stream",
          "text": [
            "Temperature: 128 Fahrenheit =  326.8333333333333 Kelvin 53.333333333333336 Celsius\n"
          ],
          "name": "stdout"
        }
      ]
    },
    {
      "cell_type": "code",
      "metadata": {
        "id": "qLrOON8vfI0R",
        "colab_type": "code",
        "colab": {
          "base_uri": "https://localhost:8080/",
          "height": 34
        },
        "outputId": "52911376-8e24-4510-f68d-6f3214ed9520"
      },
      "source": [
        "# Write a program to demonstrate all the available data types in Python. Hint: Use type() function.\n",
        "a = 2\n",
        "d = 8.2345678765\n",
        "e = 4+5j\n",
        "f = \"This is rahul\"\n",
        "g = 1,3,4\n",
        "\n",
        "print(type(a),\n",
        "type(d),\n",
        "type(e),\n",
        "type(f),\n",
        "type(g))"
      ],
      "execution_count": 20,
      "outputs": [
        {
          "output_type": "stream",
          "text": [
            "<class 'int'> <class 'float'> <class 'complex'> <class 'str'> <class 'tuple'>\n"
          ],
          "name": "stdout"
        }
      ]
    },
    {
      "cell_type": "code",
      "metadata": {
        "id": "MCZhLabhgAiG",
        "colab_type": "code",
        "colab": {}
      },
      "source": [
        ""
      ],
      "execution_count": null,
      "outputs": []
    }
  ]
}