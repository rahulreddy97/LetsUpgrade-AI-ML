{
  "nbformat": 4,
  "nbformat_minor": 0,
  "metadata": {
    "colab": {
      "name": "Day4.ipynb",
      "provenance": []
    },
    "kernelspec": {
      "name": "python3",
      "display_name": "Python 3"
    }
  },
  "cells": [
    {
      "cell_type": "code",
      "metadata": {
        "id": "ZkOoPuwNu_mL",
        "colab_type": "code",
        "colab": {
          "base_uri": "https://localhost:8080/",
          "height": 34
        },
        "outputId": "4f0063cb-4c93-4d00-c768-4b56b0494f42"
      },
      "source": [
        "# Research on whether addition, subtraction, multiplication, division, floor division and modulo\n",
        "# operations be performed on complex numbers. Based on your study, implement a Python\n",
        "# program to demonstrate these operations.\n",
        "\n",
        "a = 5 + 4j\n",
        "b = 5+3j\n",
        "print(a/b,\"=>\",a-b,\"=>\",a+b,\"=>\",a*b,\"=>\",a**2)"
      ],
      "execution_count": 8,
      "outputs": [
        {
          "output_type": "stream",
          "text": [
            "(1.0882352941176472+0.14705882352941177j) => 1j => (10+7j) => (13+35j) => (9+40j)\n"
          ],
          "name": "stdout"
        }
      ]
    },
    {
      "cell_type": "code",
      "metadata": {
        "id": "l4dc_lM0vebC",
        "colab_type": "code",
        "colab": {
          "base_uri": "https://localhost:8080/",
          "height": 34
        },
        "outputId": "ad567e71-48d2-499f-bc0f-dd7cd174d693"
      },
      "source": [
        "# Research on range() functions and its parameters. Create a markdown cell and write in your own\n",
        "# words (no copy-paste from google please) what you understand about it. Implement a small\n",
        "# program of your choice on the same.\n",
        "\n",
        "for i in range(10): \n",
        "    print(i, end =\" \") \n"
      ],
      "execution_count": 5,
      "outputs": [
        {
          "output_type": "stream",
          "text": [
            "0 1 2 3 4 5 6 7 8 9 "
          ],
          "name": "stdout"
        }
      ]
    },
    {
      "cell_type": "markdown",
      "metadata": {
        "id": "0wUQLaIVv0e-",
        "colab_type": "text"
      },
      "source": [
        "#Range is an function that is used in loops to iterate the loop for sertain range like 10 times or if there is an array names a[10] if we use range(a) the loop will itterate 10 times."
      ]
    },
    {
      "cell_type": "code",
      "metadata": {
        "id": "pY1N41h6xAKP",
        "colab_type": "code",
        "colab": {
          "base_uri": "https://localhost:8080/",
          "height": 34
        },
        "outputId": "4f50fee5-cfb6-413f-87d2-4fb436d00c1f"
      },
      "source": [
        "# Consider two numbers. Perform their subtraction and if the result of subtraction is greater than\n",
        "# 25, print their multiplication result else print their division result.\n",
        "\n",
        "a = 25 \n",
        "b = 50 \n",
        "\n",
        "if ((a-b)<=25):\n",
        "    print(a/b)\n",
        "elif ((b-a)<=25):\n",
        "  print(b/a)\n",
        "else:\n",
        "  print(a*b)\n",
        "    "
      ],
      "execution_count": 7,
      "outputs": [
        {
          "output_type": "stream",
          "text": [
            "0.5\n"
          ],
          "name": "stdout"
        }
      ]
    },
    {
      "cell_type": "code",
      "metadata": {
        "id": "UyU6gzasyLes",
        "colab_type": "code",
        "colab": {
          "base_uri": "https://localhost:8080/",
          "height": 34
        },
        "outputId": "7fa2161a-aa07-44c4-9194-fff380aeeafc"
      },
      "source": [
        "# Consider a list of 10 elements of integer values. If the number in the list is divisible by 2, print the\n",
        "# result as \"square of that number minus 2\".\n",
        "\n",
        "a = [1,2,3,4,5,6,7,8,9,10]\n",
        "for i in range(0,10):\n",
        "  if (a[i]%2 == 0):\n",
        "    print((a[i]*a[i]) - 2,end = ' ')"
      ],
      "execution_count": 15,
      "outputs": [
        {
          "output_type": "stream",
          "text": [
            "2 14 34 62 98 "
          ],
          "name": "stdout"
        }
      ]
    },
    {
      "cell_type": "code",
      "metadata": {
        "id": "T2XFqTchzSG-",
        "colab_type": "code",
        "colab": {
          "base_uri": "https://localhost:8080/",
          "height": 34
        },
        "outputId": "67cacda6-a19d-4cff-b2d3-06fbade66f69"
      },
      "source": [
        "# Consider a list of 10 elements. Print all the elements in the list which are greater than 7 when that\n",
        "# number is divided 2.\n",
        "\n",
        "a = [10,12,13,14,15,16,17,18,19,10]\n",
        "\n",
        "for i in range(0,10):\n",
        "  if (a[i]/2 > 7):\n",
        "    print(a[i],end=' ')"
      ],
      "execution_count": 16,
      "outputs": [
        {
          "output_type": "stream",
          "text": [
            "15 16 17 18 19 "
          ],
          "name": "stdout"
        }
      ]
    },
    {
      "cell_type": "code",
      "metadata": {
        "id": "XUmB0TIc0a0T",
        "colab_type": "code",
        "colab": {}
      },
      "source": [
        ""
      ],
      "execution_count": null,
      "outputs": []
    }
  ]
}