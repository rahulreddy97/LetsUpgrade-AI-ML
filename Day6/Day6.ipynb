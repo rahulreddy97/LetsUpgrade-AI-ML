{
 "cells": [
  {
   "cell_type": "code",
   "execution_count": 3,
   "metadata": {},
   "outputs": [
    {
     "name": "stdout",
     "output_type": "stream",
     "text": [
      "rahul@aspectsites.com\n",
      "aspectsites\n"
     ]
    }
   ],
   "source": [
    "# Assuming that we have some email addresses in the \"username@companyname.com\" format, please write program\n",
    "# to print the company name of a given email address. Both user names and company names are composed of letters\n",
    "# only.\n",
    "\n",
    "import re \n",
    "\n",
    "regex = '^[a-z0-9]+[\\._]?[a-z0-9]+[@]\\w+[.]\\w{2,3}$'\n",
    "\n",
    "email = input()\n",
    "\n",
    "\n",
    "def check(email):\n",
    "  if (re.search(regex,email)):\n",
    "    print(email.split('@')[-1].split('.')[0])\n",
    "  else :\n",
    "    print('invalid email')\n",
    "\n",
    "check(email)"
   ]
  },
  {
   "cell_type": "code",
   "execution_count": 28,
   "metadata": {},
   "outputs": [
    {
     "name": "stdout",
     "output_type": "stream",
     "text": [
      "please enter comma saperated values: rahul,jake,hensly\n",
      "hensly,jake,rahul,"
     ]
    }
   ],
   "source": [
    "# Write a program that accepts a comma-separated sequence of words as input and prints the words in a comma\n",
    "# separated sequence after sorting them alphabetically.\n",
    "\n",
    "words = input(\"please enter comma saperated values: \")\n",
    "\n",
    "words = words.split(',')\n",
    "words = sorted(words)\n",
    "\n",
    "for i in words:\n",
    "    print(i,end=',')"
   ]
  },
  {
   "cell_type": "code",
   "execution_count": 16,
   "metadata": {},
   "outputs": [
    {
     "name": "stdout",
     "output_type": "stream",
     "text": [
      "{'banana', 'apple', 'cherry'}\n",
      "banana apple cherry True\n",
      "{'banana', 'apple', 'cherry', 'orange'}\n",
      "{'orange', 'banana', 'apple', 'cherry', 'mango', 'grapes'}\n",
      "6\n",
      "{'orange', 'apple', 'cherry', 'mango', 'grapes'}\n",
      "{'orange', 'apple', 'cherry', 'mango', 'grapes'}\n",
      "orange\n",
      "{'apple', 'cherry', 'mango', 'grapes'}\n",
      "set()\n",
      "{1, 2, 3, 'b', 'a', 'c'}\n",
      "{1, 2, 3, 'b', 'a', 'c'}\n",
      "{'banana', 'apple', 'cherry'}\n"
     ]
    }
   ],
   "source": [
    "# Create your own Jupyter Notebook for Sets.\n",
    "\n",
    "thisset = {\"apple\", \"banana\", \"cherry\"}\n",
    "print(thisset)\n",
    "\n",
    "for x in thisset:\n",
    "  print(x,end=' ')\n",
    "\n",
    "print(\"banana\" in thisset)\n",
    "\n",
    "thisset.add(\"orange\")\n",
    "\n",
    "print(thisset)\n",
    "\n",
    "thisset.update([\"orange\", \"mango\", \"grapes\"])\n",
    "\n",
    "print(thisset)\n",
    "\n",
    "print(len(thisset))\n",
    "\n",
    "thisset.remove(\"banana\")\n",
    "\n",
    "print(thisset)\n",
    "\n",
    "thisset.discard(\"banana\")\n",
    "\n",
    "print(thisset)\n",
    "\n",
    "x = thisset.pop()\n",
    "\n",
    "print(x)\n",
    "\n",
    "print(thisset)\n",
    "\n",
    "thisset.clear()\n",
    "\n",
    "print(thisset)\n",
    "\n",
    "thisset = {\"apple\", \"banana\", \"cherry\"}\n",
    "\n",
    "del thisset\n",
    "\n",
    "# print(thisset)\n",
    "\n",
    "set1 = {\"a\", \"b\" , \"c\"}\n",
    "set2 = {1, 2, 3}\n",
    "\n",
    "set3 = set1.union(set2)\n",
    "print(set3)\n",
    "\n",
    "set1.update(set2)\n",
    "print(set1)\n",
    "\n",
    "thisset = set((\"apple\", \"banana\", \"cherry\")) # note the double round-brackets\n",
    "print(thisset)"
   ]
  },
  {
   "cell_type": "code",
   "execution_count": 37,
   "metadata": {},
   "outputs": [
    {
     "name": "stdout",
     "output_type": "stream",
     "text": [
      "please enter the space seperated n-1 numbers:1 2 3 4 6 7 8\n",
      "5\n"
     ]
    }
   ],
   "source": [
    "# Given a list of n-1 numbers ranging from 1 to n, your task is to find the missing number. There are no duplicates.\n",
    "\n",
    "numbers = input(\"please enter the space seperated n-1 numbers:\")\n",
    "\n",
    "numbers = numbers.split(\" \")\n",
    "\n",
    "num = []\n",
    "\n",
    "for i in numbers:\n",
    "    num.append(int(i))\n",
    "\n",
    "n = len(num)\n",
    "\n",
    "total = (n + 1)*(n + 2)/2\n",
    "\n",
    "sum_of_num = sum(num) \n",
    "\n",
    "print(int(total - sum_of_num)) "
   ]
  },
  {
   "cell_type": "code",
   "execution_count": 38,
   "metadata": {},
   "outputs": [
    {
     "name": "stdout",
     "output_type": "stream",
     "text": [
      "[12, 24, 35, 88, 120, 155]\n"
     ]
    }
   ],
   "source": [
    "# With a given list L, write a program to print this list L after removing all duplicate values with original \n",
    "# order reserved.\n",
    "\n",
    "mylist = [12,24,35,24,88,120,155,88,120,155]\n",
    "mylist = list(dict.fromkeys(mylist))\n",
    "print(mylist)\n"
   ]
  },
  {
   "cell_type": "code",
   "execution_count": null,
   "metadata": {},
   "outputs": [],
   "source": []
  }
 ],
 "metadata": {
  "kernelspec": {
   "display_name": "Python 3",
   "language": "python",
   "name": "python3"
  },
  "language_info": {
   "codemirror_mode": {
    "name": "ipython",
    "version": 3
   },
   "file_extension": ".py",
   "mimetype": "text/x-python",
   "name": "python",
   "nbconvert_exporter": "python",
   "pygments_lexer": "ipython3",
   "version": "3.7.4"
  }
 },
 "nbformat": 4,
 "nbformat_minor": 2
}
