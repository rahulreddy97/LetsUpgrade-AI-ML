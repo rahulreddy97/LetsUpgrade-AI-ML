{
  "nbformat": 4,
  "nbformat_minor": 0,
  "metadata": {
    "colab": {
      "name": "Day5.ipynb",
      "provenance": []
    },
    "kernelspec": {
      "name": "python3",
      "display_name": "Python 3"
    }
  },
  "cells": [
    {
      "cell_type": "code",
      "metadata": {
        "id": "z_TsJBl11TZq",
        "colab_type": "code",
        "colab": {
          "base_uri": "https://localhost:8080/",
          "height": 34
        },
        "outputId": "8244c7f8-0bf1-442d-e26f-c765633a186d"
      },
      "source": [
        "# Write a Python program to find the first 20 non-even prime natural numbers.\n",
        "j=0\n",
        "num = 2\n",
        "while (j<20):\n",
        "  if num > 1:\n",
        "        for i in range(2, num):\n",
        "            if ((num % i) == 0):\n",
        "              break     \n",
        "        else:\n",
        "          if (num%2 != 0):\n",
        "            print(num,end=\" \")\n",
        "            j = j+1\n",
        "  num = num+1\n",
        "    "
      ],
      "execution_count": 49,
      "outputs": [
        {
          "output_type": "stream",
          "text": [
            "3 5 7 11 13 17 19 23 29 31 37 41 43 47 53 59 61 67 71 73 "
          ],
          "name": "stdout"
        }
      ]
    },
    {
      "cell_type": "code",
      "metadata": {
        "id": "MR9ujuWp3tRR",
        "colab_type": "code",
        "colab": {
          "base_uri": "https://localhost:8080/",
          "height": 425
        },
        "outputId": "be788c61-0a1c-4821-a1a7-8758e32f6a3d"
      },
      "source": [
        "# Write a Python program to implement 15 functions of string.\n",
        "\n",
        "str = 'rahul_reddy'\n",
        "print('str = ', str)\n",
        "\n",
        "#first character\n",
        "print('str[0] = ', str[0])\n",
        "\n",
        "#last character\n",
        "print('str[-1] = ', str[-1])\n",
        "\n",
        "#slicing 2nd to 5th character\n",
        "print('str[1:5] = ', str[1:5])\n",
        "\n",
        "#slicing 6th to 2nd last character\n",
        "print('str[5:-2] = ', str[5:])\n",
        "\n",
        "str1 = 'Hello'\n",
        "str2 ='World!'\n",
        "\n",
        "# using +\n",
        "print('str1 + str2 = ', str1 + str2)\n",
        "\n",
        "# using *\n",
        "print('str1 * 3 =', str1 * 3)\n",
        "\n",
        "print('a' in 'rahul')\n",
        "\n",
        "print('sh' not in 'rahul')\n",
        "\n",
        "# enumerate()\n",
        "list_enumerate = list(enumerate(str))\n",
        "print('list(enumerate(str) = ', list_enumerate)\n",
        "\n",
        "#character count\n",
        "print('len(str) = ', len(str))\n",
        "\n",
        "\n",
        "# default(implicit) order\n",
        "default_order = \"{}, {} and {}\".format('John','Bill','Sean')\n",
        "print('\\n--- Default Order ---')\n",
        "print(default_order)\n",
        "\n",
        "# order using positional argument\n",
        "positional_order = \"{1}, {0} and {2}\".format('John','Bill','Sean')\n",
        "print('\\n--- Positional Order ---')\n",
        "print(positional_order)\n",
        "\n",
        "# order using keyword argument\n",
        "keyword_order = \"{s}, {b} and {j}\".format(j='John',b='Bill',s='Sean')\n",
        "print('\\n--- Keyword Order ---')\n",
        "print(keyword_order)\n",
        "\n",
        "print(\"RaHuL\".lower())\n",
        "\n",
        "print(\"RaHuL\".upper())\n",
        "\n",
        "\n",
        "joined = ' '.join(['This', 'will', 'join', 'all', 'words', 'into', 'a', 'string'])\n",
        "\n",
        "print(joined)\n",
        "\n",
        "wish = 'Happy New Year'.replace('Happy','Brilliant')\n",
        "\n",
        "print(wish)"
      ],
      "execution_count": 58,
      "outputs": [
        {
          "output_type": "stream",
          "text": [
            "str =  rahul_reddy\n",
            "str[0] =  r\n",
            "str[-1] =  y\n",
            "str[1:5] =  ahul\n",
            "str[5:-2] =  _reddy\n",
            "str1 + str2 =  HelloWorld!\n",
            "str1 * 3 = HelloHelloHello\n",
            "True\n",
            "True\n",
            "list(enumerate(str) =  [(0, 'r'), (1, 'a'), (2, 'h'), (3, 'u'), (4, 'l'), (5, '_'), (6, 'r'), (7, 'e'), (8, 'd'), (9, 'd'), (10, 'y')]\n",
            "len(str) =  11\n",
            "\n",
            "--- Default Order ---\n",
            "John, Bill and Sean\n",
            "\n",
            "--- Positional Order ---\n",
            "Bill, John and Sean\n",
            "\n",
            "--- Keyword Order ---\n",
            "Sean, Bill and John\n",
            "rahul\n",
            "RAHUL\n",
            "This will join all words into a string\n",
            "Brilliant New Year\n"
          ],
          "name": "stdout"
        }
      ]
    },
    {
      "cell_type": "code",
      "metadata": {
        "id": "GAYJYnYQDDVI",
        "colab_type": "code",
        "colab": {
          "base_uri": "https://localhost:8080/",
          "height": 34
        },
        "outputId": "577a2f7f-db36-4255-aaf3-019f8b9466a8"
      },
      "source": [
        "# Write a Python program to check if the given string is a Palindrome or Anagram or None of them.\n",
        "# Display the message accordingly to the user.\n",
        "\n",
        "\n",
        "NO_OF_CHARS = 256\n",
        "    \n",
        "def canFormPalindrome(string): \n",
        "      \n",
        "    count = [0 for i in range(NO_OF_CHARS)] \n",
        "    \n",
        "    for i in string: \n",
        "        count[ord(i)] += 1\n",
        "    \n",
        "    odd = 0\n",
        "    for i in range(NO_OF_CHARS): \n",
        "        if (count[i] & 1): \n",
        "            odd += 1\n",
        "   \n",
        "        if (odd > 1): \n",
        "            return False\n",
        "    \n",
        "    return True\n",
        "    \n",
        "if(canFormPalindrome(\"rahul0rahul\")): \n",
        "    print(\"Yes it is a palindrome\") \n",
        "else: \n",
        "    print(\"No it is not a palindrome\")"
      ],
      "execution_count": 62,
      "outputs": [
        {
          "output_type": "stream",
          "text": [
            "Yes it is a palindrome\n"
          ],
          "name": "stdout"
        }
      ]
    },
    {
      "cell_type": "code",
      "metadata": {
        "id": "k7TOg0SWHwnH",
        "colab_type": "code",
        "colab": {
          "base_uri": "https://localhost:8080/",
          "height": 34
        },
        "outputId": "4755c0c9-191d-4520-d682-0df37510fea6"
      },
      "source": [
        "# Write a Python's user defined function that removes all the additional characters from the string\n",
        "# and converts it finally to lower case using built-in lower(). eg: If the string is \"Dr. Darshan Ingle\n",
        "# @AI-ML Trainer\", then the output be \"drdarshaningleaimltrainer\"\n",
        "\n",
        "unwanted_chars = ['.','@','-',' ']\n",
        "string = 'Dr. Darshan Ingle @AI-ML Trainer'\n",
        "for i in unwanted_chars:\n",
        "  string = string.replace(i,'')\n",
        "print(string.lower())"
      ],
      "execution_count": 63,
      "outputs": [
        {
          "output_type": "stream",
          "text": [
            "drdarshaningleaimltrainer\n"
          ],
          "name": "stdout"
        }
      ]
    },
    {
      "cell_type": "code",
      "metadata": {
        "id": "rZxjEC3YI4Rb",
        "colab_type": "code",
        "colab": {}
      },
      "source": [
        ""
      ],
      "execution_count": null,
      "outputs": []
    }
  ]
}